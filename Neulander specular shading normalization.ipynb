{
 "cells": [
  {
   "cell_type": "code",
   "execution_count": 24,
   "metadata": {
    "collapsed": false
   },
   "outputs": [],
   "source": [
    "%matplotlib inline\n",
    "%run spherical.py\n",
    "\n",
    "from IPython.display import display\n",
    "import sympy\n",
    "from sympy import *\n",
    "from sympy.parsing.sympy_parser import *\n",
    "import numpy as np\n",
    "import matplotlib\n",
    "import matplotlib.pyplot as plt\n",
    "import functools as ft\n",
    "import random\n",
    "\n",
    "init_printing(use_latex='mathjax')\n",
    "\n",
    "theta_r, theta_o, theta_i = symbols(\"\\\\theta_{range} \\\\theta_o \\\\theta_i\")\n",
    "theta_min, theta_max = symbols(\"\\\\theta_min \\\\theta_max\")\n",
    "theta_spec = pi - theta_o"
   ]
  },
  {
   "cell_type": "markdown",
   "metadata": {},
   "source": [
    "# Neulander Shading Function Normalization\n",
    "\n",
    "## Notations\n",
    "\n",
    " - $t$: Unit tangent vector\n",
    " - $\\omega_o$: Unit outgoing vector\n",
    " - $\\theta_o$: Angle between $t$ and $\\omega_o$.\n",
    " - $\\omega_o^\\perp$: Projection of $\\omega_o$ on the plane perpendicular to $t$:\n",
    "$$\\omega_o^\\perp = \\frac{\\omega_o - (t \\cdot \\omega_o)t}{||\\omega_o - (t \\cdot \\omega_o)t ||}$$\n",
    " - $b = \\omega_o \\times t$\n",
    " - $n(\\theta) = b.\\cos \\theta + \\omega_o'.\\sin \\theta$: parametrization of normal vectors of the hair cylinder\n",
    " - $\\omega_i$: Unit incident vector\n",
    " - $\\theta_i$: Angle between $t$ and $\\omega_i$.\n",
    " - $\\omega_{spec}$: Perfect specular reflection of $\\omega_o$ around the normal contained in both planes $(\\omega_o, \\omega_i)$ and $(b, \\omega_o^\\perp)$\n",
    " - $\\theta_{spec} = \\pi - \\theta_o$: Angle between $t$ and $\\omega_{spec}$.\n",
    "\n",
    "## Shading model\n",
    "\n",
    "$$\n",
    "\\begin{align}\n",
    "\\Psi_{neulander}(\\omega_o,\\omega_i) \n",
    "&=\n",
    "\\left\\{\n",
    "\\begin{split}\n",
    "&k_s \\max(0, \\cos (\\theta_{spec} - \\theta_i)) \\text{ if } \\theta_i \\in [\\theta_{min}, \\theta_{max}]\\\\\n",
    "&0 \\text{ otherwise }\n",
    "\\end{split}\n",
    "\\right. \\\\\n",
    "&=\n",
    "\\left\\{\n",
    "\\begin{split}\n",
    "&k_s \\max(0, \\cos \\theta_{spec} \\cos \\theta_i + \\sin \\theta_{spec} \\sin \\theta_i ) \\text{ if } \\theta_i \\in [\\theta_{min}, \\theta_{max}]\\\\\n",
    "&0 \\text{ otherwise }\n",
    "\\end{split}\n",
    "\\right. \\\\\n",
    "&=\n",
    "\\left\\{\n",
    "\\begin{split}\n",
    "&k_s \\max(0, -\\cos \\theta_i \\cos \\theta_o + \\sin \\theta_i \\sin \\theta_o) \\text{ if } \\theta_i \\in [\\theta_{min}, \\theta_{max}]\\\\\n",
    "&0 \\text{ otherwise }\n",
    "\\end{split}\n",
    "\\right.\n",
    "\\end{align}\n",
    "$$\n",
    "\n",
    "where $\\theta_{min}, \\theta_{max}$ are parameters to control the solid angle where rays scatter.\n",
    "\n",
    "## Normalization\n",
    "\n",
    "Given $\\omega_o \\in \\Omega_{4\\pi}$, we search $c_o = \\int_{\\omega_i \\in \\Omega_{4\\pi}} (-\\cos \\theta_o \\cos \\theta_i + \\sin \\theta_o \\sin \\theta_i)d\\sigma(\\omega_i)$.\n",
    "\n",
    "$$\n",
    "\\begin{align}\n",
    "c_o &=\n",
    "\\int_{\\phi_i = 0}^{2\\pi}\\int_{\\theta_i=\\theta_{min}}^{\\theta_{max}} (-\\cos \\theta_o \\cos \\theta_i + \\sin \\theta_o \\sin \\theta_i) \\sin \\theta_i d\\theta_i d\\phi_i \\\\\n",
    "&=\n",
    "2\\pi (-\\cos \\theta_o\\int_{\\theta_i=\\theta_{min}}^{\\theta_{max}} \\cos \\theta_i \\sin \\theta_i d\\theta_i + \\sin\\theta_o \\int_{\\theta_i=\\theta_{min}}^{\\theta_{max}} \\sin^2 \\theta_i d\\theta_i) \\\\\n",
    "&=\n",
    "2\\pi (-I_1\\cos \\theta_o + I_2\\sin\\theta_o)\n",
    "\\end{align}\n",
    "$$\n",
    "\n",
    "$I_1$ and $I_2$ are computed by the following code:"
   ]
  },
  {
   "cell_type": "code",
   "execution_count": 20,
   "metadata": {
    "collapsed": false
   },
   "outputs": [],
   "source": [
    "I_1 = integrate(cos(theta_i) * sin(theta_i), (theta_i, theta_min, theta_max))\n",
    "I_2 = integrate(sin(theta_i) * sin(theta_i), (theta_i, theta_min, theta_max))"
   ]
  },
  {
   "cell_type": "code",
   "execution_count": 4,
   "metadata": {
    "collapsed": false
   },
   "outputs": [
    {
     "data": {
      "text/latex": [
       "$$\\frac{1}{2} \\sin^{2}{\\left (\\theta_{max} \\right )} - \\frac{1}{2} \\sin^{2}{\\left (\\theta_{min} \\right )}$$"
      ],
      "text/plain": [
       "   2                  2            \n",
       "sin (\\theta_max)   sin (\\theta_min)\n",
       "──────────────── - ────────────────\n",
       "       2                  2        "
      ]
     },
     "metadata": {},
     "output_type": "display_data"
    }
   ],
   "source": [
    "display(I_1)"
   ]
  },
  {
   "cell_type": "code",
   "execution_count": 5,
   "metadata": {
    "collapsed": false
   },
   "outputs": [
    {
     "data": {
      "text/latex": [
       "$$\\frac{\\theta_{max}}{2} - \\frac{\\theta_{min}}{2} - \\frac{1}{2} \\sin{\\left (\\theta_{max} \\right )} \\cos{\\left (\\theta_{max} \\right )} + \\frac{1}{2} \\sin{\\left (\\theta_{min} \\right )} \\cos{\\left (\\theta_{min} \\right )}$$"
      ],
      "text/plain": [
       "\\theta_max   \\theta_min   sin(\\theta_max)⋅cos(\\theta_max)   sin(\\theta_min)⋅co\n",
       "────────── - ────────── - ─────────────────────────────── + ──────────────────\n",
       "    2            2                       2                                 2  \n",
       "\n",
       "s(\\theta_min)\n",
       "─────────────\n",
       "             "
      ]
     },
     "metadata": {},
     "output_type": "display_data"
    }
   ],
   "source": [
    "display(I_2)"
   ]
  },
  {
   "cell_type": "code",
   "execution_count": 6,
   "metadata": {
    "collapsed": false
   },
   "outputs": [
    {
     "data": {
      "text/latex": [
       "$$\\pi \\left(\\theta_{max} \\sin{\\left (\\theta_{o} \\right )} - \\theta_{min} \\sin{\\left (\\theta_{o} \\right )} + \\frac{1}{2} \\cos{\\left (2 \\theta_{max} + \\theta_{o} \\right )} - \\frac{1}{2} \\cos{\\left (2 \\theta_{min} + \\theta_{o} \\right )}\\right)$$"
      ],
      "text/plain": [
       "  ⎛                                                    cos(2⋅\\theta_max + \\the\n",
       "π⋅⎜\\theta_max⋅sin(\\thetaₒ) - \\theta_min⋅sin(\\thetaₒ) + ───────────────────────\n",
       "  ⎝                                                                 2         \n",
       "\n",
       "taₒ)   cos(2⋅\\theta_min + \\thetaₒ)⎞\n",
       "──── - ───────────────────────────⎟\n",
       "                    2             ⎠"
      ]
     },
     "metadata": {},
     "output_type": "display_data"
    }
   ],
   "source": [
    "c_o = simplify(2*pi*(-cos(theta_o) * I_1 + sin(theta_o) * I_2))\n",
    "display(c_o)"
   ]
  },
  {
   "cell_type": "markdown",
   "metadata": {},
   "source": [
    "An interesting way of choosing parameters $\\theta_{min}$ and $\\theta_{max}$ is to fix a range $\\theta_{range}$ and to set $\\theta_{min} = \\theta_{spec} - \\theta_{range}$ and $\\theta_{max} = \\theta_{spec} + \\theta_{range}$.\n",
    "In that case we have:"
   ]
  },
  {
   "cell_type": "code",
   "execution_count": 9,
   "metadata": {
    "collapsed": false
   },
   "outputs": [],
   "source": [
    "theta_min = theta_spec - theta_r\n",
    "theta_max = theta_spec + theta_r\n",
    "\n",
    "I_1 = integrate(cos(theta_i) * sin(theta_i), (theta_i, theta_min, theta_max))\n",
    "I_2 = integrate(sin(theta_i) * sin(theta_i), (theta_i, theta_min, theta_max))"
   ]
  },
  {
   "cell_type": "code",
   "execution_count": 10,
   "metadata": {
    "collapsed": false
   },
   "outputs": [
    {
     "data": {
      "text/latex": [
       "$$\\frac{1}{2} \\sin^{2}{\\left (\\theta_{o} - \\theta_{{range}} \\right )} - \\frac{1}{2} \\sin^{2}{\\left (\\theta_{o} + \\theta_{{range}} \\right )}$$"
      ],
      "text/plain": [
       "   2                                2                          \n",
       "sin (\\thetaₒ - \\theta_{range})   sin (\\thetaₒ + \\theta_{range})\n",
       "────────────────────────────── - ──────────────────────────────\n",
       "              2                                2               "
      ]
     },
     "metadata": {},
     "output_type": "display_data"
    }
   ],
   "source": [
    "display(I_1)"
   ]
  },
  {
   "cell_type": "code",
   "execution_count": 11,
   "metadata": {
    "collapsed": false
   },
   "outputs": [
    {
     "data": {
      "text/latex": [
       "$$\\theta_{{range}} + \\frac{1}{2} \\sin{\\left (\\theta_{o} - \\theta_{{range}} \\right )} \\cos{\\left (\\theta_{o} - \\theta_{{range}} \\right )} - \\frac{1}{2} \\sin{\\left (\\theta_{o} + \\theta_{{range}} \\right )} \\cos{\\left (\\theta_{o} + \\theta_{{range}} \\right )}$$"
      ],
      "text/plain": [
       "                 sin(\\thetaₒ - \\theta_{range})⋅cos(\\thetaₒ - \\theta_{range})  \n",
       "\\theta_{range} + ─────────────────────────────────────────────────────────── -\n",
       "                                              2                               \n",
       "\n",
       " sin(\\thetaₒ + \\theta_{range})⋅cos(\\thetaₒ + \\theta_{range})\n",
       " ───────────────────────────────────────────────────────────\n",
       "                              2                             "
      ]
     },
     "metadata": {},
     "output_type": "display_data"
    }
   ],
   "source": [
    "display(I_2)"
   ]
  },
  {
   "cell_type": "code",
   "execution_count": 12,
   "metadata": {
    "collapsed": false
   },
   "outputs": [
    {
     "data": {
      "text/latex": [
       "$$2 \\pi \\left(\\theta_{{range}} + \\sin{\\left (\\theta_{{range}} \\right )} \\cos{\\left (\\theta_{{range}} \\right )}\\right) \\sin{\\left (\\theta_{o} \\right )}$$"
      ],
      "text/plain": [
       "2⋅π⋅(\\theta_{range} + sin(\\theta_{range})⋅cos(\\theta_{range}))⋅sin(\\thetaₒ)"
      ]
     },
     "metadata": {},
     "output_type": "display_data"
    }
   ],
   "source": [
    "c_o = simplify(2*pi*(-cos(theta_o) * I_1 + sin(theta_o) * I_2))\n",
    "display(c_o)"
   ]
  },
  {
   "cell_type": "markdown",
   "metadata": {},
   "source": [
    "Let's now test experimentally our formula for the normalization factor by estimating $\\frac{1}{c_o} \\int_{\\omega_i \\in \\Omega_{4\\pi}} \\Psi_{neulander}(\\omega_o,\\omega_i) d\\omega_i$ with Monte Carlo integration. It should converge to 1 for each $\\omega_o$ and possible range $\\theta_{range}$."
   ]
  },
  {
   "cell_type": "code",
   "execution_count": null,
   "metadata": {
    "collapsed": false
   },
   "outputs": [],
   "source": [
    "#plt.xlim(0, float(pi))\n",
    "\n",
    "#theta_range_ = np.pi / 2\n",
    "#xs = np.linspace(0, float(pi), 256)\n",
    "#plt.plot(xs, np.array([float(c_o.subs(theta_o, x).subs(theta_r, theta_range_)) for x in xs]))\n",
    "#plt.show()\n",
    "\n",
    "# Evaluate \\Psy(w_o, w_i) / c_o\n",
    "def neulander_eval(theta_range, w_o, w_i):\n",
    "    global theta_r\n",
    "    global theta_o\n",
    "    global c_o\n",
    "    \n",
    "    cos_o = w_o[2];\n",
    "    cos_i = w_i[2];\n",
    "\n",
    "    theta_o_value = np.arccos(cos_o)\n",
    "    theta_spec = np.pi - theta_o_value\n",
    "    theta_min = max(0, theta_spec - theta_range)\n",
    "    theta_max = min(np.pi, theta_spec + theta_range)\n",
    "    cos_theta_min = np.cos(theta_min)\n",
    "    cos_theta_max = np.cos(theta_max)\n",
    "    \n",
    "    if cos_i > cos_theta_min or cos_i < cos_theta_max:\n",
    "        return 0\n",
    "    \n",
    "    sin_i = cos2sin(cos_i)\n",
    "    sin_o = cos2sin(cos_o)\n",
    "    \n",
    "    c = float(c_o.subs(theta_o, theta_o_value).subs(theta_r, theta_range))\n",
    "    \n",
    "    return max(0, -cos_i * cos_o + sin_i * sin_o) / c\n",
    "\n",
    "random.seed(0)\n",
    "\n",
    "size = 256 # Estimation with 256 directions\n",
    "randu = np.array([random.random() for i in range(size)])\n",
    "randv = np.array([random.random() for i in range(size)])\n",
    "\n",
    "dirs = [sample_uniform_sphere(randu[i], randv[i]) for i in range(len(randu))]\n",
    "\n",
    "print(\"test neulander normalization\")\n",
    "\n",
    "mean_estimates = 0\n",
    "\n",
    "rs = np.linspace(0.01, float(pi) / 2, 32)\n",
    "for r in rs:\n",
    "    current_estimate = 0\n",
    "    for w_o in dirs:\n",
    "        estimate = (1 / size) * sum((neulander_eval(r, w_o, w_i) / pdf_uniform_sphere(w_i) for w_i in dirs))\n",
    "        current_estimate = current_estimate + estimate\n",
    "    current_estimate = current_estimate / len(dirs) # Average estimates\n",
    "    print(\"estimate for r = \", r, \" is \", current_estimate)\n",
    "    mean_estimates = mean_estimates + current_estimate\n",
    "\n",
    "mean_estimates = mean_estimates / len(rs)\n",
    "print(\"complete mean estimate = \", mean_estimates)"
   ]
  }
 ],
 "metadata": {
  "kernelspec": {
   "display_name": "Python 3",
   "language": "python",
   "name": "python3"
  },
  "language_info": {
   "codemirror_mode": {
    "name": "ipython",
    "version": 3
   },
   "file_extension": ".py",
   "mimetype": "text/x-python",
   "name": "python",
   "nbconvert_exporter": "python",
   "pygments_lexer": "ipython3",
   "version": "3.5.0"
  }
 },
 "nbformat": 4,
 "nbformat_minor": 0
}
